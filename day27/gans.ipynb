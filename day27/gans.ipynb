{
 "cells": [
  {
   "cell_type": "markdown",
   "metadata": {},
   "source": [
    "# Introduction to GAN's\n",
    "\n",
    "- Generative Adversarials (GANs) are a type machine learning model used for generative modeling, developed in 2014 by Ian Goodfellow and team. GANs consist of two main components: a generator network and a discriminator network.\n",
    "\n",
    "    -  The generator network creates new samples based on training data, while the discriminator network to distinguish between real and generated. The two networks are trained together in an adversarial game, with the generator trying to fool the discriminator and the discriminator trying to correctly classify real and generated samples. GANs have been used for a variety of applications, such as image synthesis, text generation, and even video generation. They have been used for tasks like generating realistic images, creating deepfakes, enhancing low-resolution images, and more.\n",
    "\n",
    "- The geometric intuition behind GANs is that the generator network tries to create fake samples that are similar to real data, while the discriminator network tries to identify the differences between real and fake samples. The generator network can be thought of as a thief trying to create convincing forgeries, while the discriminator network is like a police officer trying to identify the forgeries. The two networks are trained together, with the generator trying to improve its ability to create convincing forgeries and the discriminator trying to improve its ability to identify them.\n",
    "\n",
    "- The training process for GANs involves first training the discriminator on a real dataset, then training the generator to create fake samples that can fool the discriminator. The generator is trained using the feedback from the discriminator to improve its ability to create convincing forgeries. The training process continues until the generator is able to create high-quality samples that are difficult for the discriminator to distinguish from real data.\n",
    "\n",
    "- There are different types of GAN architectures, such as Deep Convolutional GANs (DCGANs), Conditional GANs (CGANs), Least Square GANs (LSGANs), Auxiliary Classifier GANs (ACGANs), and Dual Video Discriminator GANs (DVD-GANs), each with their own strengths and weaknesses. These architectures are used for different types of problems, such as image synthesis, text generation, and video generation.\n",
    "\n",
    "In summary, GANs are a powerful tool for generative modeling that can be used for a variety of applications. They consist of two main components, a generator and a discriminator, that are trained together in an adversarial game. The generator tries to create convincing forgeries, while the discriminator tries to identify the differences between real and fake samples. The training process continues until the generator is able to create high-quality samples that are difficult for the discriminator to distinguish from real data. There are different types of GAN architectures that can be used for different types of problems.\n"
   ]
  },
  {
   "cell_type": "markdown",
   "metadata": {},
   "source": []
  }
 ],
 "metadata": {
  "language_info": {
   "name": "python"
  }
 },
 "nbformat": 4,
 "nbformat_minor": 2
}
