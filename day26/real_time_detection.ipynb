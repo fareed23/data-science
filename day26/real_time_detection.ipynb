{
 "cells": [
  {
   "cell_type": "markdown",
   "metadata": {},
   "source": [
    "# Real time detection"
   ]
  },
  {
   "cell_type": "code",
   "execution_count": null,
   "metadata": {},
   "outputs": [
    {
     "name": "stderr",
     "output_type": "stream",
     "text": [
      "[ WARN:0@0.052] global loadsave.cpp:248 findDecoder imread_('test.jpg'): can't open/read file: check file path/integrity\n"
     ]
    },
    {
     "ename": "error",
     "evalue": "OpenCV(4.8.1) /Users/runner/work/opencv-python/opencv-python/opencv/modules/dnn/src/caffe/caffe_io.cpp:1126: error: (-2:Unspecified error) FAILED: fs.is_open(). Can't open \"MobileNetSSD_deploy.prototxt.txt\" in function 'ReadProtoFromTextFile'\n",
     "output_type": "error",
     "traceback": [
      "\u001b[0;31m---------------------------------------------------------------------------\u001b[0m",
      "\u001b[0;31merror\u001b[0m                                     Traceback (most recent call last)",
      "Cell \u001b[0;32mIn[1], line 38\u001b[0m\n\u001b[1;32m     36\u001b[0m image \u001b[38;5;241m=\u001b[39m cv2\u001b[38;5;241m.\u001b[39mimread(\u001b[38;5;124m\"\u001b[39m\u001b[38;5;124mtest.jpg\u001b[39m\u001b[38;5;124m\"\u001b[39m)\n\u001b[1;32m     37\u001b[0m \u001b[38;5;66;03m# detect and predict the object in the image\u001b[39;00m\n\u001b[0;32m---> 38\u001b[0m image \u001b[38;5;241m=\u001b[39m \u001b[43mdetect_and_predict\u001b[49m\u001b[43m(\u001b[49m\u001b[43mimage\u001b[49m\u001b[43m)\u001b[49m\n\u001b[1;32m     39\u001b[0m \u001b[38;5;66;03m# show the output image\u001b[39;00m\n\u001b[1;32m     40\u001b[0m cv2\u001b[38;5;241m.\u001b[39mimshow(\u001b[38;5;124m\"\u001b[39m\u001b[38;5;124mOutput\u001b[39m\u001b[38;5;124m\"\u001b[39m, image)\n",
      "Cell \u001b[0;32mIn[1], line 11\u001b[0m, in \u001b[0;36mdetect_and_predict\u001b[0;34m(image)\u001b[0m\n\u001b[1;32m      9\u001b[0m labels \u001b[38;5;241m=\u001b[39m [\u001b[38;5;124m\"\u001b[39m\u001b[38;5;124mbirds\u001b[39m\u001b[38;5;124m\"\u001b[39m]\n\u001b[1;32m     10\u001b[0m \u001b[38;5;66;03m# load the model from disk\u001b[39;00m\n\u001b[0;32m---> 11\u001b[0m net \u001b[38;5;241m=\u001b[39m \u001b[43mcv2\u001b[49m\u001b[38;5;241;43m.\u001b[39;49m\u001b[43mdnn\u001b[49m\u001b[38;5;241;43m.\u001b[39;49m\u001b[43mreadNetFromCaffe\u001b[49m\u001b[43m(\u001b[49m\u001b[43mprototxt\u001b[49m\u001b[43m,\u001b[49m\u001b[43m \u001b[49m\u001b[43mmodel\u001b[49m\u001b[43m)\u001b[49m\n\u001b[1;32m     12\u001b[0m \u001b[38;5;66;03m# grab the dimensions of the image and then construct a blob\u001b[39;00m\n\u001b[1;32m     13\u001b[0m (h, w) \u001b[38;5;241m=\u001b[39m image\u001b[38;5;241m.\u001b[39mshape[:\u001b[38;5;241m2\u001b[39m]\n",
      "\u001b[0;31merror\u001b[0m: OpenCV(4.8.1) /Users/runner/work/opencv-python/opencv-python/opencv/modules/dnn/src/caffe/caffe_io.cpp:1126: error: (-2:Unspecified error) FAILED: fs.is_open(). Can't open \"MobileNetSSD_deploy.prototxt.txt\" in function 'ReadProtoFromTextFile'\n"
     ]
    }
   ],
   "source": [
    "import cv2\t\n",
    "import numpy as np\n",
    "import os\n",
    "\n",
    "# Load Yolo\n",
    "net = cv2.dnn.readNet(\"yolov3_training_last.weights\", \"yolov3_testing.cfg\")\n",
    "layer_names = net.getLayerNames()\n",
    "output_layers = [layer_names[i[0]-1] for i in net.getUnconnectedOutLayers()]\n",
    "classes = [\"mask\", \"no_mask\"]\n",
    "colors = [(0, 0, 255), (0, 255, 0)]\n",
    "\n",
    "def draw_predictions(frame, class_ids, scores, xmin, ymin, xmax, ymax):\n",
    "\tfor i in range(len(class_ids)):\n",
    "\t\tlabel = str(classes[class_ids[i]])\n",
    "\t\tcolor = colors[class_ids[i]]\n",
    "\t\tcv2.rectangle(frame, (xmin[i], ymin[i]), (xmax[i], ymax[i]), color, 2)\n",
    "\t\tcv2.putText(frame, label, (xmin[i], ymin[i]-10), cv2.FONT_HERSHEY_SIMPLEX, 0.5, color, 2)\n",
    "\treturn frame\n",
    "cap = cv2.VideoCapture(0)\n",
    "while True:\n",
    "\t_, frame = cap.read()\n",
    "\theight, width, channels = frame.shape\n",
    "\t# Detecting objects\n",
    "\tblob = cv2.dnn.blobFromImage(frame, 0.00392, (416, 416), (0, 0, 0), True, crop=False)\n",
    "\tnet.setInput(blob)\n",
    "\touts = net.forward(output_layers)\n",
    "\t# Showing informations on the screen\n",
    "\tclass_ids = []\n",
    "\tconfidences = []\n",
    "\txmin = []\n",
    "\tymin = []\n",
    "\txmax = []\n",
    "\tymax = []\n",
    "\tfor out in outs:\n",
    "\t\tfor detection in out:\n",
    "\t\t\tscores = detection[5:]\n",
    "\t\t\tclass_id = np.argmax(scores)\n",
    "\t\t\tconfidence = scores[class_id]\n",
    "\t\t\tif confidence > 0.3:\n",
    "\t\t\t\t# Object detected\n",
    "\t\t\t\tcenter_x = int(detection[0]*width)\n",
    "\t\t\t\tcenter_y = int(detection[1]*height)\n",
    "\t\t\t\tw = int(detection[2]*width)\n",
    "\t\t\t\th = int(detection[3]*height)\n",
    "\t\t\t\t# Rectangle coordinates\n",
    "\t\t\t\tx = int(center_x - w/2)\n",
    "\t\t\t\ty = int(center_y - h/2)\n",
    "\t\t\t\txmin.append(x)\n",
    "\t\t\t\tymin.append(y)\n",
    "\t\t\t\txmax.append(x+w)\n",
    "\t\t\t\tymax.append(y+h)\n",
    "\t\t\t\tconfidences.append(float(confidence))\n",
    "\t\t\t\tclass_ids.append(class_id)\n",
    "\tindices = cv2.dnn.NMSBoxes(xmin, ymin, xmax, ymax, 0.4, 0.3)\n",
    "\tfor i in indices:\n",
    "\t\ti = i[0]\n",
    "\t\tbox = [xmin[i], ymin[i], xmax[i], ymax[i]]\n",
    "\t\tframe = draw_predictions(frame, class_ids, confidences, xmin, ymin, xmax, ymax)\n",
    "\tcv2.imshow(\"Image\", frame)\n",
    "\tkey = cv2.waitKey(1)\n",
    "\tif key == 27:\n",
    "\t\tbreak\n",
    "cap.release()\n",
    "cv2.destroyAllWindows()"
   ]
  }
 ],
 "metadata": {
  "kernelspec": {
   "display_name": "dl_env",
   "language": "python",
   "name": "python3"
  },
  "language_info": {
   "codemirror_mode": {
    "name": "ipython",
    "version": 3
   },
   "file_extension": ".py",
   "mimetype": "text/x-python",
   "name": "python",
   "nbconvert_exporter": "python",
   "pygments_lexer": "ipython3",
   "version": "3.10.10"
  }
 },
 "nbformat": 4,
 "nbformat_minor": 2
}
