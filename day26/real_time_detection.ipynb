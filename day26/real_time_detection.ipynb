{
 "cells": [
  {
   "cell_type": "code",
   "execution_count": 1,
   "metadata": {},
   "outputs": [
    {
     "name": "stderr",
     "output_type": "stream",
     "text": [
      "[ WARN:0@0.052] global loadsave.cpp:248 findDecoder imread_('test.jpg'): can't open/read file: check file path/integrity\n"
     ]
    },
    {
     "ename": "error",
     "evalue": "OpenCV(4.8.1) /Users/runner/work/opencv-python/opencv-python/opencv/modules/dnn/src/caffe/caffe_io.cpp:1126: error: (-2:Unspecified error) FAILED: fs.is_open(). Can't open \"MobileNetSSD_deploy.prototxt.txt\" in function 'ReadProtoFromTextFile'\n",
     "output_type": "error",
     "traceback": [
      "\u001b[0;31m---------------------------------------------------------------------------\u001b[0m",
      "\u001b[0;31merror\u001b[0m                                     Traceback (most recent call last)",
      "Cell \u001b[0;32mIn[1], line 38\u001b[0m\n\u001b[1;32m     36\u001b[0m image \u001b[38;5;241m=\u001b[39m cv2\u001b[38;5;241m.\u001b[39mimread(\u001b[38;5;124m\"\u001b[39m\u001b[38;5;124mtest.jpg\u001b[39m\u001b[38;5;124m\"\u001b[39m)\n\u001b[1;32m     37\u001b[0m \u001b[38;5;66;03m# detect and predict the object in the image\u001b[39;00m\n\u001b[0;32m---> 38\u001b[0m image \u001b[38;5;241m=\u001b[39m \u001b[43mdetect_and_predict\u001b[49m\u001b[43m(\u001b[49m\u001b[43mimage\u001b[49m\u001b[43m)\u001b[49m\n\u001b[1;32m     39\u001b[0m \u001b[38;5;66;03m# show the output image\u001b[39;00m\n\u001b[1;32m     40\u001b[0m cv2\u001b[38;5;241m.\u001b[39mimshow(\u001b[38;5;124m\"\u001b[39m\u001b[38;5;124mOutput\u001b[39m\u001b[38;5;124m\"\u001b[39m, image)\n",
      "Cell \u001b[0;32mIn[1], line 11\u001b[0m, in \u001b[0;36mdetect_and_predict\u001b[0;34m(image)\u001b[0m\n\u001b[1;32m      9\u001b[0m labels \u001b[38;5;241m=\u001b[39m [\u001b[38;5;124m\"\u001b[39m\u001b[38;5;124mbirds\u001b[39m\u001b[38;5;124m\"\u001b[39m]\n\u001b[1;32m     10\u001b[0m \u001b[38;5;66;03m# load the model from disk\u001b[39;00m\n\u001b[0;32m---> 11\u001b[0m net \u001b[38;5;241m=\u001b[39m \u001b[43mcv2\u001b[49m\u001b[38;5;241;43m.\u001b[39;49m\u001b[43mdnn\u001b[49m\u001b[38;5;241;43m.\u001b[39;49m\u001b[43mreadNetFromCaffe\u001b[49m\u001b[43m(\u001b[49m\u001b[43mprototxt\u001b[49m\u001b[43m,\u001b[49m\u001b[43m \u001b[49m\u001b[43mmodel\u001b[49m\u001b[43m)\u001b[49m\n\u001b[1;32m     12\u001b[0m \u001b[38;5;66;03m# grab the dimensions of the image and then construct a blob\u001b[39;00m\n\u001b[1;32m     13\u001b[0m (h, w) \u001b[38;5;241m=\u001b[39m image\u001b[38;5;241m.\u001b[39mshape[:\u001b[38;5;241m2\u001b[39m]\n",
      "\u001b[0;31merror\u001b[0m: OpenCV(4.8.1) /Users/runner/work/opencv-python/opencv-python/opencv/modules/dnn/src/caffe/caffe_io.cpp:1126: error: (-2:Unspecified error) FAILED: fs.is_open(). Can't open \"MobileNetSSD_deploy.prototxt.txt\" in function 'ReadProtoFromTextFile'\n"
     ]
    }
   ],
   "source": [
    "# Code for Real time detection using opencv \n",
    "import cv2\n",
    "import numpy as np\n",
    "import time\n",
    "def detect_and_predict(image):\n",
    "\t# load the model and labels\n",
    "\tprototxt = \"MobileNetSSD_deploy.prototxt.txt\"\n",
    "\tmodel = \"MobileNetSSD_deploy.caffemodel\"\n",
    "\tlabels = [\"birds\"]\n",
    "\t# load the model from disk\n",
    "\tnet = cv2.dnn.readNetFromCaffe(prototxt, model)\n",
    "\t# grab the dimensions of the image and then construct a blob\n",
    "\t(h, w) = image.shape[:2]\n",
    "\tblob = cv2.dnn.blobFromImage(cv2.resize(image, (300, 300)), 0.007843, (300, 300), 127.5)\n",
    "\t# pass the blob through the network and obtain the detections and predictions\n",
    "\tnet.setInput(blob)\n",
    "\tdetections = net.forward()\n",
    "\t# loop over the detections\n",
    "\tfor i in np.arange(0, detections.shape[2]):\n",
    "\t\t# extract the confidence (i.e., probability) associated with the prediction\n",
    "\t\tconfidence = detections[0, 0, i, 2]\n",
    "\t\t# filter out weak detections by ensuring the `confidence` is greater than the minimum confidence\n",
    "\t\tif confidence > 0.2:\n",
    "\t\t\t# extract the index of the class label from the `detections`\n",
    "\t\t\tidx = int(detections[0, 0, i, 1])\n",
    "\t\t\t# then compute the (x, y)-coordinates of the bounding box for the object\n",
    "\t\t\tbox = detections[0, 0, i, 3:7] * np.array([w, h, w, h])\n",
    "\t\t\t(startX, startY, endX, endY) = box.astype(\"int\")\n",
    "\t\t\t# draw the prediction on the frame\n",
    "\t\t\tlabel = \"{}: {:.2f}%\".format(labels[idx], confidence * 100)\n",
    "\t\t\tcv2.rectangle(image, (startX, startY), (endX, endY), (0, 255, 0), 2)\n",
    "\t\t\ty = startY - 15 if startY - 15 > 15 else startY + 15\n",
    "\t\t\tcv2.putText(image, label, (startX, y), cv2.FONT_HERSHEY_SIMPLEX, 0.5, (0, 255, 0), 2)\n",
    "\treturn image\n",
    "# load the input image from disk\n",
    "image = cv2.imread(\"test.jpg\")\n",
    "# detect and predict the object in the image\n",
    "image = detect_and_predict(image)\n",
    "# show the output image\n",
    "cv2.imshow(\"Output\", image)\n",
    "cv2.waitKey(0)\n",
    "cv2.destroyAllWindows()"
   ]
  }
 ],
 "metadata": {
  "kernelspec": {
   "display_name": "dl_env",
   "language": "python",
   "name": "python3"
  },
  "language_info": {
   "codemirror_mode": {
    "name": "ipython",
    "version": 3
   },
   "file_extension": ".py",
   "mimetype": "text/x-python",
   "name": "python",
   "nbconvert_exporter": "python",
   "pygments_lexer": "ipython3",
   "version": "3.10.10"
  }
 },
 "nbformat": 4,
 "nbformat_minor": 2
}
